{
 "cells": [
  {
   "cell_type": "markdown",
   "metadata": {},
   "source": [
    "# Import libraries"
   ]
  },
  {
   "cell_type": "code",
   "execution_count": 1,
   "metadata": {},
   "outputs": [],
   "source": [
    "%matplotlib inline\n",
    "import pandas as pd\n",
    "import numpy as np\n",
    "import matplotlib.pyplot as plt\n",
    "import seaborn as sns\n",
    "import warnings\n",
    "warnings.filterwarnings('ignore')"
   ]
  },
  {
   "cell_type": "markdown",
   "metadata": {},
   "source": [
    "# Read data in"
   ]
  },
  {
   "cell_type": "code",
   "execution_count": 184,
   "metadata": {},
   "outputs": [],
   "source": [
    "tennis_data_list = []\n",
    "\n",
    "for i in range(1988, 2023):\n",
    "    \n",
    "    tennis_data_list.append(pd.read_csv('https://raw.githubusercontent.com/JeffSackmann/tennis_atp/master/atp_matches_' + str(i) + '.csv'))"
   ]
  },
  {
   "cell_type": "code",
   "execution_count": 185,
   "metadata": {},
   "outputs": [
    {
     "data": {
      "text/html": [
       "<div>\n",
       "<style scoped>\n",
       "    .dataframe tbody tr th:only-of-type {\n",
       "        vertical-align: middle;\n",
       "    }\n",
       "\n",
       "    .dataframe tbody tr th {\n",
       "        vertical-align: top;\n",
       "    }\n",
       "\n",
       "    .dataframe thead th {\n",
       "        text-align: right;\n",
       "    }\n",
       "</style>\n",
       "<table border=\"1\" class=\"dataframe\">\n",
       "  <thead>\n",
       "    <tr style=\"text-align: right;\">\n",
       "      <th></th>\n",
       "      <th>tourney_id</th>\n",
       "      <th>tourney_name</th>\n",
       "      <th>surface</th>\n",
       "      <th>draw_size</th>\n",
       "      <th>tourney_level</th>\n",
       "      <th>tourney_date</th>\n",
       "      <th>match_num</th>\n",
       "      <th>winner_id</th>\n",
       "      <th>winner_seed</th>\n",
       "      <th>winner_entry</th>\n",
       "      <th>...</th>\n",
       "      <th>l_1stIn</th>\n",
       "      <th>l_1stWon</th>\n",
       "      <th>l_2ndWon</th>\n",
       "      <th>l_SvGms</th>\n",
       "      <th>l_bpSaved</th>\n",
       "      <th>l_bpFaced</th>\n",
       "      <th>winner_rank</th>\n",
       "      <th>winner_rank_points</th>\n",
       "      <th>loser_rank</th>\n",
       "      <th>loser_rank_points</th>\n",
       "    </tr>\n",
       "  </thead>\n",
       "  <tbody>\n",
       "    <tr>\n",
       "      <th>0</th>\n",
       "      <td>1988-201</td>\n",
       "      <td>Guaruja</td>\n",
       "      <td>Hard</td>\n",
       "      <td>32</td>\n",
       "      <td>A</td>\n",
       "      <td>19880125</td>\n",
       "      <td>1</td>\n",
       "      <td>100586</td>\n",
       "      <td>1.0</td>\n",
       "      <td>NaN</td>\n",
       "      <td>...</td>\n",
       "      <td>NaN</td>\n",
       "      <td>NaN</td>\n",
       "      <td>NaN</td>\n",
       "      <td>NaN</td>\n",
       "      <td>NaN</td>\n",
       "      <td>NaN</td>\n",
       "      <td>22.0</td>\n",
       "      <td>NaN</td>\n",
       "      <td>251.0</td>\n",
       "      <td>NaN</td>\n",
       "    </tr>\n",
       "    <tr>\n",
       "      <th>1</th>\n",
       "      <td>1988-201</td>\n",
       "      <td>Guaruja</td>\n",
       "      <td>Hard</td>\n",
       "      <td>32</td>\n",
       "      <td>A</td>\n",
       "      <td>19880125</td>\n",
       "      <td>2</td>\n",
       "      <td>101133</td>\n",
       "      <td>NaN</td>\n",
       "      <td>NaN</td>\n",
       "      <td>...</td>\n",
       "      <td>NaN</td>\n",
       "      <td>NaN</td>\n",
       "      <td>NaN</td>\n",
       "      <td>NaN</td>\n",
       "      <td>NaN</td>\n",
       "      <td>NaN</td>\n",
       "      <td>182.0</td>\n",
       "      <td>NaN</td>\n",
       "      <td>317.0</td>\n",
       "      <td>NaN</td>\n",
       "    </tr>\n",
       "    <tr>\n",
       "      <th>2</th>\n",
       "      <td>1988-201</td>\n",
       "      <td>Guaruja</td>\n",
       "      <td>Hard</td>\n",
       "      <td>32</td>\n",
       "      <td>A</td>\n",
       "      <td>19880125</td>\n",
       "      <td>3</td>\n",
       "      <td>100669</td>\n",
       "      <td>NaN</td>\n",
       "      <td>NaN</td>\n",
       "      <td>...</td>\n",
       "      <td>NaN</td>\n",
       "      <td>NaN</td>\n",
       "      <td>NaN</td>\n",
       "      <td>NaN</td>\n",
       "      <td>NaN</td>\n",
       "      <td>NaN</td>\n",
       "      <td>232.0</td>\n",
       "      <td>NaN</td>\n",
       "      <td>205.0</td>\n",
       "      <td>NaN</td>\n",
       "    </tr>\n",
       "    <tr>\n",
       "      <th>3</th>\n",
       "      <td>1988-201</td>\n",
       "      <td>Guaruja</td>\n",
       "      <td>Hard</td>\n",
       "      <td>32</td>\n",
       "      <td>A</td>\n",
       "      <td>19880125</td>\n",
       "      <td>4</td>\n",
       "      <td>100782</td>\n",
       "      <td>8.0</td>\n",
       "      <td>NaN</td>\n",
       "      <td>...</td>\n",
       "      <td>NaN</td>\n",
       "      <td>NaN</td>\n",
       "      <td>NaN</td>\n",
       "      <td>NaN</td>\n",
       "      <td>NaN</td>\n",
       "      <td>NaN</td>\n",
       "      <td>139.0</td>\n",
       "      <td>NaN</td>\n",
       "      <td>190.0</td>\n",
       "      <td>NaN</td>\n",
       "    </tr>\n",
       "    <tr>\n",
       "      <th>4</th>\n",
       "      <td>1988-201</td>\n",
       "      <td>Guaruja</td>\n",
       "      <td>Hard</td>\n",
       "      <td>32</td>\n",
       "      <td>A</td>\n",
       "      <td>19880125</td>\n",
       "      <td>5</td>\n",
       "      <td>101318</td>\n",
       "      <td>4.0</td>\n",
       "      <td>NaN</td>\n",
       "      <td>...</td>\n",
       "      <td>NaN</td>\n",
       "      <td>NaN</td>\n",
       "      <td>NaN</td>\n",
       "      <td>NaN</td>\n",
       "      <td>NaN</td>\n",
       "      <td>NaN</td>\n",
       "      <td>138.0</td>\n",
       "      <td>NaN</td>\n",
       "      <td>157.0</td>\n",
       "      <td>NaN</td>\n",
       "    </tr>\n",
       "  </tbody>\n",
       "</table>\n",
       "<p>5 rows × 49 columns</p>\n",
       "</div>"
      ],
      "text/plain": [
       "  tourney_id tourney_name surface  draw_size tourney_level  tourney_date  \\\n",
       "0   1988-201      Guaruja    Hard         32             A      19880125   \n",
       "1   1988-201      Guaruja    Hard         32             A      19880125   \n",
       "2   1988-201      Guaruja    Hard         32             A      19880125   \n",
       "3   1988-201      Guaruja    Hard         32             A      19880125   \n",
       "4   1988-201      Guaruja    Hard         32             A      19880125   \n",
       "\n",
       "   match_num  winner_id  winner_seed winner_entry  ... l_1stIn l_1stWon  \\\n",
       "0          1     100586          1.0          NaN  ...     NaN      NaN   \n",
       "1          2     101133          NaN          NaN  ...     NaN      NaN   \n",
       "2          3     100669          NaN          NaN  ...     NaN      NaN   \n",
       "3          4     100782          8.0          NaN  ...     NaN      NaN   \n",
       "4          5     101318          4.0          NaN  ...     NaN      NaN   \n",
       "\n",
       "   l_2ndWon l_SvGms  l_bpSaved  l_bpFaced  winner_rank winner_rank_points  \\\n",
       "0       NaN     NaN        NaN        NaN         22.0                NaN   \n",
       "1       NaN     NaN        NaN        NaN        182.0                NaN   \n",
       "2       NaN     NaN        NaN        NaN        232.0                NaN   \n",
       "3       NaN     NaN        NaN        NaN        139.0                NaN   \n",
       "4       NaN     NaN        NaN        NaN        138.0                NaN   \n",
       "\n",
       "  loser_rank loser_rank_points  \n",
       "0      251.0               NaN  \n",
       "1      317.0               NaN  \n",
       "2      205.0               NaN  \n",
       "3      190.0               NaN  \n",
       "4      157.0               NaN  \n",
       "\n",
       "[5 rows x 49 columns]"
      ]
     },
     "execution_count": 185,
     "metadata": {},
     "output_type": "execute_result"
    }
   ],
   "source": [
    "tennis = pd.concat(tennis_data_list, ignore_index = True)\n",
    "\n",
    "#tennis = pd.read_csv('https://raw.githubusercontent.com/JeffSackmann/tennis_atp/master/atp_matches_2019.csv')\n",
    "tennis.head()"
   ]
  },
  {
   "cell_type": "markdown",
   "metadata": {},
   "source": [
    "Find all of the columns to operate on in the data."
   ]
  },
  {
   "cell_type": "code",
   "execution_count": 186,
   "metadata": {},
   "outputs": [
    {
     "data": {
      "text/plain": [
       "Index(['tourney_id', 'tourney_name', 'surface', 'draw_size', 'tourney_level',\n",
       "       'tourney_date', 'match_num', 'winner_id', 'winner_seed', 'winner_entry',\n",
       "       'winner_name', 'winner_hand', 'winner_ht', 'winner_ioc', 'winner_age',\n",
       "       'loser_id', 'loser_seed', 'loser_entry', 'loser_name', 'loser_hand',\n",
       "       'loser_ht', 'loser_ioc', 'loser_age', 'score', 'best_of', 'round',\n",
       "       'minutes', 'w_ace', 'w_df', 'w_svpt', 'w_1stIn', 'w_1stWon', 'w_2ndWon',\n",
       "       'w_SvGms', 'w_bpSaved', 'w_bpFaced', 'l_ace', 'l_df', 'l_svpt',\n",
       "       'l_1stIn', 'l_1stWon', 'l_2ndWon', 'l_SvGms', 'l_bpSaved', 'l_bpFaced',\n",
       "       'winner_rank', 'winner_rank_points', 'loser_rank', 'loser_rank_points'],\n",
       "      dtype='object')"
      ]
     },
     "execution_count": 186,
     "metadata": {},
     "output_type": "execute_result"
    }
   ],
   "source": [
    "tennis.columns"
   ]
  },
  {
   "cell_type": "markdown",
   "metadata": {},
   "source": [
    "Get only the relevant columns for calculating the statistics"
   ]
  },
  {
   "cell_type": "code",
   "execution_count": 187,
   "metadata": {},
   "outputs": [],
   "source": [
    "tennis_players = tennis.loc[:, [\"tourney_date\", \"winner_id\", \"winner_name\", \"winner_age\",\n",
    "                                \"loser_id\", \"loser_name\", \"loser_age\"]]"
   ]
  },
  {
   "cell_type": "markdown",
   "metadata": {},
   "source": [
    "Convert the columns using functions for dat and age"
   ]
  },
  {
   "cell_type": "code",
   "execution_count": 188,
   "metadata": {},
   "outputs": [],
   "source": [
    "def convert_columns(df):\n",
    "    \n",
    "    df_with_dates = convert_tourney_dates(df)\n",
    "    \n",
    "    df_amended_ages = get_player_ages(df_with_dates)\n",
    "    \n",
    "    return df_amended_ages"
   ]
  },
  {
   "cell_type": "code",
   "execution_count": 189,
   "metadata": {},
   "outputs": [],
   "source": [
    "def convert_tourney_dates(df, date_column = \"tourney_date\"):\n",
    "    \n",
    "    df[date_column] = pd.to_datetime(df[date_column], format = \"%Y%m%d\")\n",
    "    df[\"year\"] = df[date_column].dt.year\n",
    "    \n",
    "    return tennis_players\n",
    "    "
   ]
  },
  {
   "cell_type": "code",
   "execution_count": 190,
   "metadata": {},
   "outputs": [],
   "source": [
    "def get_player_ages(df):\n",
    "    \n",
    "    # One of the players doesn't have an age\n",
    "    tennis_players_complete = df[pd.isna(df[\"winner_age\"]) == False]\n",
    "    tennis_players_complete = tennis_players_complete[pd.isna(tennis_players_complete[\"loser_age\"]) == False]\n",
    "    \n",
    "    tennis_players_complete[\"winner_age\"] = tennis_players_complete[\"winner_age\"].astype(int)\n",
    "    tennis_players_complete[\"loser_age\"] = tennis_players_complete[\"loser_age\"].astype(int)\n",
    "    \n",
    "    return tennis_players_complete"
   ]
  },
  {
   "cell_type": "code",
   "execution_count": 191,
   "metadata": {},
   "outputs": [],
   "source": [
    "tennis_players_complete = convert_columns(tennis_players)"
   ]
  },
  {
   "cell_type": "markdown",
   "metadata": {},
   "source": [
    "# Wins and losses of big 3"
   ]
  },
  {
   "cell_type": "code",
   "execution_count": 192,
   "metadata": {},
   "outputs": [],
   "source": [
    "def filter_players(df, winners, player_list):\n",
    "     \n",
    "    if winners == True:\n",
    "        \n",
    "        big_3 = df[df[\"winner_name\"].isin(player_list)] \n",
    "        \n",
    "    else:\n",
    "        \n",
    "        big_3 = df[df[\"loser_name\"].isin(player_list)]\n",
    "    \n",
    "    return big_3\n",
    "    "
   ]
  },
  {
   "cell_type": "code",
   "execution_count": 193,
   "metadata": {},
   "outputs": [],
   "source": [
    "big_3 = [\"Roger Federer\", \"Rafael Nadal\", \"Novak Djokovic\"] \n",
    "\n",
    "big_3_winning = filter_players(tennis_players_complete, winners = True, player_list = big_3)\n",
    "big_3_losing = filter_players(tennis_players_complete, winners = False, player_list = big_3)"
   ]
  },
  {
   "cell_type": "markdown",
   "metadata": {},
   "source": [
    "Create mapping object for players and ID numbers"
   ]
  },
  {
   "cell_type": "code",
   "execution_count": 194,
   "metadata": {},
   "outputs": [],
   "source": [
    "mapping_players = {\"Roger Federer\": 103819, \"Novak Djokovic\": 104925, \"Rafael Nadal\": 104745}"
   ]
  },
  {
   "cell_type": "code",
   "execution_count": 195,
   "metadata": {},
   "outputs": [],
   "source": [
    "def get_wins_losses(df_win, df_loss):\n",
    "    \n",
    "    total_wins = count_wins_losses(df_win, winning = True)\n",
    "    \n",
    "    total_losses = count_wins_losses(df_loss, winning = False)\n",
    "    \n",
    "    all_wins_losses = pd.concat([total_wins, total_losses], axis = 1)\n",
    "    \n",
    "    all_wins_losses.columns = all_wins_losses.columns.droplevel()\n",
    "    \n",
    "    return all_wins_losses"
   ]
  },
  {
   "cell_type": "code",
   "execution_count": 196,
   "metadata": {},
   "outputs": [],
   "source": [
    "def count_wins_losses(df, winning = True):\n",
    "    \n",
    "    if winning == True:\n",
    "        total = (df.groupby([\"winner_name\", \"winner_age\"]).count()\n",
    "                 .loc[:, [\"tourney_date\"]].unstack([0]).add_prefix(\"win_\"))\n",
    "        \n",
    "    else:\n",
    "        total = (df.groupby([\"loser_name\", \"loser_age\"]).count()\n",
    "                 .loc[:, [\"tourney_date\"]].unstack([0]).add_prefix(\"lose_\"))\n",
    "        \n",
    "    return total"
   ]
  },
  {
   "cell_type": "code",
   "execution_count": 197,
   "metadata": {},
   "outputs": [],
   "source": [
    "all_wins_losses = get_wins_losses(big_3_winning, big_3_losing)"
   ]
  },
  {
   "cell_type": "code",
   "execution_count": 198,
   "metadata": {},
   "outputs": [],
   "source": [
    "def calculate_win_pct(df, pct_list, win_list, loss_list):\n",
    "    \n",
    "    new_df = df.copy()\n",
    "    \n",
    "    for i, j, k in zip(pct_list, win_list, loss_list):\n",
    "        \n",
    "        new_df[i] = (new_df[j] / (new_df[j] + new_df[k])) * 100\n",
    "        \n",
    "    win_pct_data = new_df.loc[\"17\":\"39\", pct_list]\n",
    "        \n",
    "    return win_pct_data\n",
    "    "
   ]
  },
  {
   "cell_type": "code",
   "execution_count": 199,
   "metadata": {},
   "outputs": [],
   "source": [
    "big_3_pct = [\"Djokovic_win_pct\", \"Nadal_win_pct\", \"Federer_win_pct\"]\n",
    "big_3_win = [\"win_Novak Djokovic\", \"win_Rafael Nadal\", \"win_Roger Federer\"]\n",
    "big_3_loss = [\"lose_Novak Djokovic\", \"lose_Rafael Nadal\", \"lose_Roger Federer\"]\n",
    "\n",
    "win_big_3_percentage = calculate_win_pct(all_wins_losses, player_pct, player_win, player_loss)"
   ]
  },
  {
   "cell_type": "markdown",
   "metadata": {},
   "source": [
    "# Other players"
   ]
  },
  {
   "cell_type": "code",
   "execution_count": 200,
   "metadata": {},
   "outputs": [],
   "source": [
    "murray_win = filter_players(df = tennis_players_complete, winners = True, player_list = [\"Andy Murray\"])\n",
    "murray_loss = filter_players(df = tennis_players_complete, winners = False, player_list = [\"Andy Murray\"])"
   ]
  },
  {
   "cell_type": "code",
   "execution_count": 201,
   "metadata": {},
   "outputs": [],
   "source": [
    "murray_wins_losses = get_wins_losses(murray_win, murray_loss)"
   ]
  },
  {
   "cell_type": "code",
   "execution_count": 202,
   "metadata": {},
   "outputs": [],
   "source": [
    "win_murray_percentage = calculate_win_pct(murray_wins_losses, [\"Murray_win_pct\"],\n",
    "                                          [\"win_Andy Murray\"], [\"lose_Andy Murray\"])"
   ]
  },
  {
   "cell_type": "markdown",
   "metadata": {},
   "source": [
    "Sampras"
   ]
  },
  {
   "cell_type": "code",
   "execution_count": 203,
   "metadata": {},
   "outputs": [],
   "source": [
    "sampras_win = filter_players(df = tennis_players_complete, winners = True, player_list = [\"Pete Sampras\"])\n",
    "sampras_loss = filter_players(df = tennis_players_complete, winners = False, player_list = [\"Pete Sampras\"])"
   ]
  },
  {
   "cell_type": "code",
   "execution_count": 204,
   "metadata": {},
   "outputs": [],
   "source": [
    "sampras_wins_losses = get_wins_losses(sampras_win, sampras_loss)"
   ]
  },
  {
   "cell_type": "code",
   "execution_count": 205,
   "metadata": {},
   "outputs": [],
   "source": [
    "win_sampras_percentage = calculate_win_pct(sampras_wins_losses, [\"Sampras_win_pct\"],\n",
    "                                          [\"win_Pete Sampras\"], [\"lose_Pete Sampras\"])"
   ]
  },
  {
   "cell_type": "code",
   "execution_count": null,
   "metadata": {},
   "outputs": [],
   "source": []
  },
  {
   "cell_type": "markdown",
   "metadata": {},
   "source": [
    "# Visualisation"
   ]
  },
  {
   "cell_type": "code",
   "execution_count": 280,
   "metadata": {},
   "outputs": [
    {
     "data": {
      "image/png": "[encoded data removed]",
      "text/plain": [
       "<Figure size 864x576 with 1 Axes>"
      ]
     },
     "metadata": {
      "needs_background": "light"
     },
     "output_type": "display_data"
    }
   ],
   "source": [
    "plt.figure(figsize = (12, 8))\n",
    "plt.plot(win_big_3_percentage[\"Djokovic_win_pct\"], label = \"Djokovic\")\n",
    "plt.plot(win_big_3_percentage[\"Nadal_win_pct\"], label = \"Nadal\")\n",
    "plt.plot(win_big_3_percentage[\"Federer_win_pct\"], label = \"Federer\")\n",
    "#plt.plot(win_sampras_percentage[\"Sampras_win_pct\"], label = \"Sampras\")\n",
    "plt.xlim(16, 40.7)\n",
    "plt.ylim(0, 100)\n",
    "#plt.legend()\n",
    "plt.grid(axis = \"y\")\n",
    "plt.xlabel(\"Age\", fontsize = 15)\n",
    "plt.ylabel(\"Win Percentage\", fontsize = 15)\n",
    "plt.title(\"The big 3 are consistent at winning\", fontsize = 15)\n",
    "plt.annotate(\"Federer\", (39.1, 64))\n",
    "plt.annotate(\"Nadal\", (36.25, 61.5))\n",
    "plt.annotate(\"Djokovic\", (33, 90))\n",
    "plt.xticks(fontsize = 15)\n",
    "plt.yticks(fontsize = 15)\n",
    "plt.show()"
   ]
  },
  {
   "cell_type": "code",
   "execution_count": 285,
   "metadata": {},
   "outputs": [],
   "source": [
    "average_win_big_3 = win_big_3_percentage.copy()"
   ]
  },
  {
   "cell_type": "code",
   "execution_count": 287,
   "metadata": {},
   "outputs": [],
   "source": [
    "average_win_big_3[\"Average_win_pct\"] = ((average_win_big_3[\"Djokovic_win_pct\"] + \n",
    "                                       average_win_big_3[\"Nadal_win_pct\"] + \n",
    "                                       average_win_big_3[\"Federer_win_pct\"]) / 3)"
   ]
  },
  {
   "cell_type": "code",
   "execution_count": 294,
   "metadata": {},
   "outputs": [
    {
     "data": {
      "image/png": "[encoded data removed]",
      "text/plain": [
       "<Figure size 864x576 with 1 Axes>"
      ]
     },
     "metadata": {
      "needs_background": "light"
     },
     "output_type": "display_data"
    }
   ],
   "source": [
    "plt.figure(figsize = (12, 8))\n",
    "plt.plot(average_win_big_3[\"Average_win_pct\"])\n",
    "#plt.plot(win_big_3_percentage[\"Nadal_win_pct\"], label = \"Nadal\")\n",
    "#plt.plot(win_big_3_percentage[\"Federer_win_pct\"], label = \"Federer\")\n",
    "#plt.plot(win_sampras_percentage[\"Sampras_win_pct\"], label = \"Sampras\")\n",
    "plt.xlim(16, 36)\n",
    "plt.ylim(0, 100)\n",
    "#plt.legend()\n",
    "plt.grid(axis = \"y\")\n",
    "plt.xlabel(\"Age\", fontsize = 15)\n",
    "plt.ylabel(\"Win Percentage\", fontsize = 15)\n",
    "plt.title(\"The big 3 are consistent at winning\", fontsize = 15)\n",
    "#plt.annotate(\"Federer\", (39.1, 64))\n",
    "#plt.annotate(\"Nadal\", (36.25, 61.5))\n",
    "#plt.annotate(\"Djokovic\", (33, 90))\n",
    "plt.xticks(fontsize = 15)\n",
    "plt.yticks(fontsize = 15)\n",
    "plt.show()"
   ]
  },
  {
   "cell_type": "code",
   "execution_count": null,
   "metadata": {},
   "outputs": [],
   "source": []
  },
  {
   "cell_type": "code",
   "execution_count": null,
   "metadata": {},
   "outputs": [],
   "source": []
  },
  {
   "cell_type": "code",
   "execution_count": null,
   "metadata": {},
   "outputs": [],
   "source": []
  },
  {
   "cell_type": "code",
   "execution_count": null,
   "metadata": {},
   "outputs": [],
   "source": []
  },
  {
   "cell_type": "code",
   "execution_count": 224,
   "metadata": {},
   "outputs": [
    {
     "data": {
      "image/png": "[encoded data removed]",
      "text/plain": [
       "<Figure size 864x648 with 3 Axes>"
      ]
     },
     "metadata": {
      "needs_background": "light"
     },
     "output_type": "display_data"
    }
   ],
   "source": [
    "fig, ax = plt.subplots(3, sharex = True)\n",
    "ax[0].plot(win_big_3_percentage[\"Djokovic_win_pct\"])\n",
    "ax[0].grid()\n",
    "ax[0].set_ylim(0, 100)\n",
    "ax[1].plot(win_big_3_percentage[\"Nadal_win_pct\"])\n",
    "ax[1].set_ylim(0, 100)\n",
    "ax[1].grid()\n",
    "ax[2].plot(win_big_3_percentage[\"Federer_win_pct\"])\n",
    "ax[2].set_ylim(0, 100)\n",
    "ax[2].grid()\n",
    "fig.set_figheight(9)\n",
    "fig.set_figwidth(12)\n"
   ]
  },
  {
   "cell_type": "code",
   "execution_count": null,
   "metadata": {},
   "outputs": [],
   "source": []
  },
  {
   "cell_type": "code",
   "execution_count": null,
   "metadata": {},
   "outputs": [],
   "source": []
  },
  {
   "cell_type": "code",
   "execution_count": null,
   "metadata": {},
   "outputs": [],
   "source": []
  },
  {
   "cell_type": "code",
   "execution_count": null,
   "metadata": {},
   "outputs": [],
   "source": []
  },
  {
   "cell_type": "code",
   "execution_count": null,
   "metadata": {},
   "outputs": [],
   "source": []
  },
  {
   "cell_type": "code",
   "execution_count": null,
   "metadata": {},
   "outputs": [],
   "source": []
  },
  {
   "cell_type": "code",
   "execution_count": null,
   "metadata": {},
   "outputs": [],
   "source": []
  },
  {
   "cell_type": "code",
   "execution_count": null,
   "metadata": {},
   "outputs": [],
   "source": []
  },
  {
   "cell_type": "code",
   "execution_count": null,
   "metadata": {},
   "outputs": [],
   "source": []
  }
 ],
 "metadata": {
  "kernelspec": {
   "display_name": "Python 3",
   "language": "python",
   "name": "python3"
  },
  "language_info": {
   "codemirror_mode": {
    "name": "ipython",
    "version": 3
   },
   "file_extension": ".py",
   "mimetype": "text/x-python",
   "name": "python",
   "nbconvert_exporter": "python",
   "pygments_lexer": "ipython3",
   "version": "3.8.5"
  }
 },
 "nbformat": 4,
 "nbformat_minor": 4
}
