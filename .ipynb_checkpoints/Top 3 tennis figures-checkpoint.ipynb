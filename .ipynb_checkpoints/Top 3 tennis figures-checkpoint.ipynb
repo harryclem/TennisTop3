{
 "cells": [
  {
   "cell_type": "markdown",
   "metadata": {},
   "source": [
    "# Import libraries"
   ]
  },
  {
   "cell_type": "code",
   "execution_count": 1,
   "metadata": {},
   "outputs": [],
   "source": [
    "%matplotlib inline\n",
    "import pandas as pd\n",
    "import numpy as np\n",
    "import matplotlib.pyplot as plt\n",
    "import seaborn as sns\n",
    "import warnings\n",
    "warnings.filterwarnings('ignore')"
   ]
  },
  {
   "cell_type": "markdown",
   "metadata": {},
   "source": [
    "# Read data in"
   ]
  },
  {
   "cell_type": "code",
   "execution_count": 2,
   "metadata": {},
   "outputs": [],
   "source": [
    "tennis_data_list = []\n",
    "\n",
    "for i in range(1999, 2022):\n",
    "    \n",
    "    tennis_data_list.append(pd.read_csv('https://raw.githubusercontent.com/JeffSackmann/tennis_atp/master/atp_matches_' + str(i) + '.csv'))"
   ]
  },
  {
   "cell_type": "code",
   "execution_count": 3,
   "metadata": {},
   "outputs": [
    {
     "data": {
      "text/html": [
       "<div>\n",
       "<style scoped>\n",
       "    .dataframe tbody tr th:only-of-type {\n",
       "        vertical-align: middle;\n",
       "    }\n",
       "\n",
       "    .dataframe tbody tr th {\n",
       "        vertical-align: top;\n",
       "    }\n",
       "\n",
       "    .dataframe thead th {\n",
       "        text-align: right;\n",
       "    }\n",
       "</style>\n",
       "<table border=\"1\" class=\"dataframe\">\n",
       "  <thead>\n",
       "    <tr style=\"text-align: right;\">\n",
       "      <th></th>\n",
       "      <th>tourney_id</th>\n",
       "      <th>tourney_name</th>\n",
       "      <th>surface</th>\n",
       "      <th>draw_size</th>\n",
       "      <th>tourney_level</th>\n",
       "      <th>tourney_date</th>\n",
       "      <th>match_num</th>\n",
       "      <th>winner_id</th>\n",
       "      <th>winner_seed</th>\n",
       "      <th>winner_entry</th>\n",
       "      <th>...</th>\n",
       "      <th>l_1stIn</th>\n",
       "      <th>l_1stWon</th>\n",
       "      <th>l_2ndWon</th>\n",
       "      <th>l_SvGms</th>\n",
       "      <th>l_bpSaved</th>\n",
       "      <th>l_bpFaced</th>\n",
       "      <th>winner_rank</th>\n",
       "      <th>winner_rank_points</th>\n",
       "      <th>loser_rank</th>\n",
       "      <th>loser_rank_points</th>\n",
       "    </tr>\n",
       "  </thead>\n",
       "  <tbody>\n",
       "    <tr>\n",
       "      <th>0</th>\n",
       "      <td>1999-339</td>\n",
       "      <td>Adelaide</td>\n",
       "      <td>Hard</td>\n",
       "      <td>32</td>\n",
       "      <td>A</td>\n",
       "      <td>19990104</td>\n",
       "      <td>1</td>\n",
       "      <td>102158</td>\n",
       "      <td>1.0</td>\n",
       "      <td>NaN</td>\n",
       "      <td>...</td>\n",
       "      <td>28.0</td>\n",
       "      <td>14.0</td>\n",
       "      <td>4.0</td>\n",
       "      <td>7.0</td>\n",
       "      <td>3.0</td>\n",
       "      <td>7.0</td>\n",
       "      <td>4.0</td>\n",
       "      <td>3315.0</td>\n",
       "      <td>115.0</td>\n",
       "      <td>415.0</td>\n",
       "    </tr>\n",
       "    <tr>\n",
       "      <th>1</th>\n",
       "      <td>1999-339</td>\n",
       "      <td>Adelaide</td>\n",
       "      <td>Hard</td>\n",
       "      <td>32</td>\n",
       "      <td>A</td>\n",
       "      <td>19990104</td>\n",
       "      <td>2</td>\n",
       "      <td>101792</td>\n",
       "      <td>NaN</td>\n",
       "      <td>NaN</td>\n",
       "      <td>...</td>\n",
       "      <td>41.0</td>\n",
       "      <td>31.0</td>\n",
       "      <td>12.0</td>\n",
       "      <td>11.0</td>\n",
       "      <td>5.0</td>\n",
       "      <td>8.0</td>\n",
       "      <td>64.0</td>\n",
       "      <td>723.0</td>\n",
       "      <td>77.0</td>\n",
       "      <td>635.0</td>\n",
       "    </tr>\n",
       "    <tr>\n",
       "      <th>2</th>\n",
       "      <td>1999-339</td>\n",
       "      <td>Adelaide</td>\n",
       "      <td>Hard</td>\n",
       "      <td>32</td>\n",
       "      <td>A</td>\n",
       "      <td>19990104</td>\n",
       "      <td>3</td>\n",
       "      <td>102562</td>\n",
       "      <td>NaN</td>\n",
       "      <td>NaN</td>\n",
       "      <td>...</td>\n",
       "      <td>22.0</td>\n",
       "      <td>12.0</td>\n",
       "      <td>8.0</td>\n",
       "      <td>8.0</td>\n",
       "      <td>3.0</td>\n",
       "      <td>8.0</td>\n",
       "      <td>75.0</td>\n",
       "      <td>669.0</td>\n",
       "      <td>59.0</td>\n",
       "      <td>757.0</td>\n",
       "    </tr>\n",
       "    <tr>\n",
       "      <th>3</th>\n",
       "      <td>1999-339</td>\n",
       "      <td>Adelaide</td>\n",
       "      <td>Hard</td>\n",
       "      <td>32</td>\n",
       "      <td>A</td>\n",
       "      <td>19990104</td>\n",
       "      <td>4</td>\n",
       "      <td>103720</td>\n",
       "      <td>NaN</td>\n",
       "      <td>WC</td>\n",
       "      <td>...</td>\n",
       "      <td>44.0</td>\n",
       "      <td>30.0</td>\n",
       "      <td>17.0</td>\n",
       "      <td>11.0</td>\n",
       "      <td>8.0</td>\n",
       "      <td>10.0</td>\n",
       "      <td>100.0</td>\n",
       "      <td>482.0</td>\n",
       "      <td>35.0</td>\n",
       "      <td>1007.0</td>\n",
       "    </tr>\n",
       "    <tr>\n",
       "      <th>4</th>\n",
       "      <td>1999-339</td>\n",
       "      <td>Adelaide</td>\n",
       "      <td>Hard</td>\n",
       "      <td>32</td>\n",
       "      <td>A</td>\n",
       "      <td>19990104</td>\n",
       "      <td>5</td>\n",
       "      <td>101727</td>\n",
       "      <td>4.0</td>\n",
       "      <td>NaN</td>\n",
       "      <td>...</td>\n",
       "      <td>25.0</td>\n",
       "      <td>16.0</td>\n",
       "      <td>13.0</td>\n",
       "      <td>8.0</td>\n",
       "      <td>4.0</td>\n",
       "      <td>7.0</td>\n",
       "      <td>27.0</td>\n",
       "      <td>1280.0</td>\n",
       "      <td>81.0</td>\n",
       "      <td>613.0</td>\n",
       "    </tr>\n",
       "  </tbody>\n",
       "</table>\n",
       "<p>5 rows × 49 columns</p>\n",
       "</div>"
      ],
      "text/plain": [
       "  tourney_id tourney_name surface  draw_size tourney_level  tourney_date  \\\n",
       "0   1999-339     Adelaide    Hard         32             A      19990104   \n",
       "1   1999-339     Adelaide    Hard         32             A      19990104   \n",
       "2   1999-339     Adelaide    Hard         32             A      19990104   \n",
       "3   1999-339     Adelaide    Hard         32             A      19990104   \n",
       "4   1999-339     Adelaide    Hard         32             A      19990104   \n",
       "\n",
       "   match_num  winner_id  winner_seed winner_entry  ... l_1stIn l_1stWon  \\\n",
       "0          1     102158          1.0          NaN  ...    28.0     14.0   \n",
       "1          2     101792          NaN          NaN  ...    41.0     31.0   \n",
       "2          3     102562          NaN          NaN  ...    22.0     12.0   \n",
       "3          4     103720          NaN           WC  ...    44.0     30.0   \n",
       "4          5     101727          4.0          NaN  ...    25.0     16.0   \n",
       "\n",
       "   l_2ndWon l_SvGms  l_bpSaved  l_bpFaced  winner_rank winner_rank_points  \\\n",
       "0       4.0     7.0        3.0        7.0          4.0             3315.0   \n",
       "1      12.0    11.0        5.0        8.0         64.0              723.0   \n",
       "2       8.0     8.0        3.0        8.0         75.0              669.0   \n",
       "3      17.0    11.0        8.0       10.0        100.0              482.0   \n",
       "4      13.0     8.0        4.0        7.0         27.0             1280.0   \n",
       "\n",
       "  loser_rank loser_rank_points  \n",
       "0      115.0             415.0  \n",
       "1       77.0             635.0  \n",
       "2       59.0             757.0  \n",
       "3       35.0            1007.0  \n",
       "4       81.0             613.0  \n",
       "\n",
       "[5 rows x 49 columns]"
      ]
     },
     "execution_count": 3,
     "metadata": {},
     "output_type": "execute_result"
    }
   ],
   "source": [
    "tennis = pd.concat(tennis_data_list, ignore_index = True)\n",
    "\n",
    "#tennis = pd.read_csv('https://raw.githubusercontent.com/JeffSackmann/tennis_atp/master/atp_matches_2019.csv')\n",
    "tennis.head()"
   ]
  },
  {
   "cell_type": "markdown",
   "metadata": {},
   "source": [
    "Find all of the columns to operate on in the data."
   ]
  },
  {
   "cell_type": "code",
   "execution_count": 4,
   "metadata": {},
   "outputs": [
    {
     "data": {
      "text/plain": [
       "Index(['tourney_id', 'tourney_name', 'surface', 'draw_size', 'tourney_level',\n",
       "       'tourney_date', 'match_num', 'winner_id', 'winner_seed', 'winner_entry',\n",
       "       'winner_name', 'winner_hand', 'winner_ht', 'winner_ioc', 'winner_age',\n",
       "       'loser_id', 'loser_seed', 'loser_entry', 'loser_name', 'loser_hand',\n",
       "       'loser_ht', 'loser_ioc', 'loser_age', 'score', 'best_of', 'round',\n",
       "       'minutes', 'w_ace', 'w_df', 'w_svpt', 'w_1stIn', 'w_1stWon', 'w_2ndWon',\n",
       "       'w_SvGms', 'w_bpSaved', 'w_bpFaced', 'l_ace', 'l_df', 'l_svpt',\n",
       "       'l_1stIn', 'l_1stWon', 'l_2ndWon', 'l_SvGms', 'l_bpSaved', 'l_bpFaced',\n",
       "       'winner_rank', 'winner_rank_points', 'loser_rank', 'loser_rank_points'],\n",
       "      dtype='object')"
      ]
     },
     "execution_count": 4,
     "metadata": {},
     "output_type": "execute_result"
    }
   ],
   "source": [
    "tennis.columns"
   ]
  },
  {
   "cell_type": "markdown",
   "metadata": {},
   "source": [
    "Get only the relevant columns for calculating the statistics"
   ]
  },
  {
   "cell_type": "code",
   "execution_count": 5,
   "metadata": {},
   "outputs": [],
   "source": [
    "tennis_players = tennis.loc[:, [\"tourney_date\", \"winner_id\", \"winner_name\", \"winner_age\",\n",
    "                                \"loser_id\", \"loser_name\", \"loser_age\"]]"
   ]
  },
  {
   "cell_type": "markdown",
   "metadata": {},
   "source": [
    "Get the big 3 players"
   ]
  },
  {
   "cell_type": "code",
   "execution_count": null,
   "metadata": {},
   "outputs": [],
   "source": []
  },
  {
   "cell_type": "code",
   "execution_count": 6,
   "metadata": {},
   "outputs": [],
   "source": [
    "def convert_columns(df):\n",
    "    \n",
    "    df_with_dates = convert_tourney_dates(df)\n",
    "    \n",
    "    df_amended_ages = get_player_ages(df_with_dates)\n",
    "    \n",
    "    return df_amended_ages"
   ]
  },
  {
   "cell_type": "code",
   "execution_count": 7,
   "metadata": {},
   "outputs": [],
   "source": [
    "def convert_tourney_dates(df, date_column = \"tourney_date\"):\n",
    "    \n",
    "    df[date_column] = pd.to_datetime(df[date_column], format = \"%Y%m%d\")\n",
    "    df[\"year\"] = df[date_column].dt.year\n",
    "    \n",
    "    return tennis_players\n",
    "    "
   ]
  },
  {
   "cell_type": "code",
   "execution_count": 8,
   "metadata": {},
   "outputs": [],
   "source": [
    "def get_player_ages(df):\n",
    "    \n",
    "    # One of the players doesn't have an age\n",
    "    tennis_players_complete = df[pd.isna(df[\"winner_age\"]) == False]\n",
    "\n",
    "    tennis_players_complete[\"winner_age\"] = tennis_players_complete[\"winner_age\"].astype(int)\n",
    "    tennis_players_complete[\"loser_age\"] = tennis_players_complete[\"loser_age\"].astype(int)\n",
    "    \n",
    "    return tennis_players_complete"
   ]
  },
  {
   "cell_type": "code",
   "execution_count": 9,
   "metadata": {},
   "outputs": [],
   "source": [
    "tennis_players_complete = convert_columns(tennis_players)"
   ]
  },
  {
   "cell_type": "markdown",
   "metadata": {},
   "source": [
    "Get the wins and losses of the big 3"
   ]
  },
  {
   "cell_type": "code",
   "execution_count": 10,
   "metadata": {},
   "outputs": [],
   "source": [
    "def get_big_3(df, winners = True):\n",
    "    \n",
    "    players = [\"Roger Federer\", \"Rafael Nadal\", \"Novak Djokovic\"] \n",
    "    \n",
    "    if winners == True:\n",
    "        \n",
    "        big_3 = df[df[\"winner_name\"].isin(players)] \n",
    "        \n",
    "    else:\n",
    "        \n",
    "        big_3 = df[df[\"loser_name\"].isin(players)]\n",
    "    \n",
    "    return big_3\n",
    "    "
   ]
  },
  {
   "cell_type": "code",
   "execution_count": 11,
   "metadata": {},
   "outputs": [],
   "source": [
    "big_3_winning = get_big_3(tennis_players_complete, winners = True)\n",
    "big_3_losing = get_big_3(tennis_players_complete, winners = False)"
   ]
  },
  {
   "cell_type": "markdown",
   "metadata": {},
   "source": [
    "Create mapping object for players and ID numbers"
   ]
  },
  {
   "cell_type": "code",
   "execution_count": 12,
   "metadata": {},
   "outputs": [],
   "source": [
    "mapping_players = {\"Roger Federer\": 103819, \"Novak Djokovic\": 104925, \"Rafael Nadal\": 104745}"
   ]
  },
  {
   "cell_type": "code",
   "execution_count": 18,
   "metadata": {},
   "outputs": [],
   "source": [
    "def get_big_3_wins_losses(df_win, df_loss):\n",
    "    \n",
    "    big_3_total_wins = count_wins_losses(df_win, winning = True)\n",
    "    \n",
    "    big_3_total_losses = count_wins_losses(df_loss, winning = False)\n",
    "    \n",
    "    all_wins_losses = pd.concat([big_3_total_wins, big_3_total_losses], axis = 1)\n",
    "    \n",
    "    all_wins_losses.columns = all_wins_losses.columns.droplevel()\n",
    "    \n",
    "    return all_wins_losses"
   ]
  },
  {
   "cell_type": "code",
   "execution_count": 19,
   "metadata": {},
   "outputs": [],
   "source": [
    "def count_wins_losses(df, winning = True):\n",
    "    \n",
    "    if winning == True:\n",
    "        big_3_total = (df.groupby([\"winner_name\", \"winner_age\"]).count()\n",
    "                       .loc[:, [\"tourney_date\"]].unstack([0]).add_prefix(\"win_\"))\n",
    "        \n",
    "    else:\n",
    "        big_3_total = (df.groupby([\"loser_name\", \"loser_age\"]).count()\n",
    "                              .loc[:, [\"tourney_date\"]].unstack([0]).add_prefix(\"lose_\"))\n",
    "        \n",
    "    return big_3_total"
   ]
  },
  {
   "cell_type": "code",
   "execution_count": 21,
   "metadata": {},
   "outputs": [],
   "source": [
    "all_wins_losses = get_big_3_wins_losses(big_3_winning, big_3_losing)"
   ]
  },
  {
   "cell_type": "code",
   "execution_count": 14,
   "metadata": {},
   "outputs": [],
   "source": []
  },
  {
   "cell_type": "code",
   "execution_count": 15,
   "metadata": {},
   "outputs": [],
   "source": [
    "\n"
   ]
  },
  {
   "cell_type": "code",
   "execution_count": 16,
   "metadata": {},
   "outputs": [],
   "source": [
    "all_wins_losses[\"Djokovic_win_pct\"] = (all_wins_losses[\"win_Novak Djokovic\"] /\n",
    "                                       (all_wins_losses[\"win_Novak Djokovic\"] +\n",
    "                                        all_wins_losses[\"lose_Novak Djokovic\"]))\n",
    "\n",
    "all_wins_losses[\"Nadal_win_pct\"] = (all_wins_losses[\"win_Rafael Nadal\"] /\n",
    "                                       (all_wins_losses[\"win_Rafael Nadal\"] +\n",
    "                                        all_wins_losses[\"lose_Rafael Nadal\"]))\n",
    "\n",
    "all_wins_losses[\"Federer_win_pct\"] = (all_wins_losses[\"win_Roger Federer\"] /\n",
    "                                       (all_wins_losses[\"win_Roger Federer\"] +\n",
    "                                        all_wins_losses[\"lose_Roger Federer\"]))\n",
    "\n",
    "win_pct_data = all_wins_losses.loc[\"17\":\"39\", [\"Djokovic_win_pct\", \"Nadal_win_pct\", \"Federer_win_pct\"]]"
   ]
  },
  {
   "cell_type": "code",
   "execution_count": 17,
   "metadata": {},
   "outputs": [
    {
     "data": {
      "image/png": "[encoded data removed]",
      "text/plain": [
       "<Figure size 720x504 with 1 Axes>"
      ]
     },
     "metadata": {
      "needs_background": "light"
     },
     "output_type": "display_data"
    }
   ],
   "source": [
    "plt.figure(figsize = (10, 7))\n",
    "plt.plot(win_pct_data[\"Djokovic_win_pct\"], label = \"Djokovic\")\n",
    "plt.plot(win_pct_data[\"Nadal_win_pct\"], label = \"Nadal\")\n",
    "plt.plot(win_pct_data[\"Federer_win_pct\"], label = \"Federer\")\n",
    "plt.xlim(16, 40)\n",
    "plt.ylim(0, 1)\n",
    "plt.legend()\n",
    "plt.grid()\n",
    "plt.show()"
   ]
  },
  {
   "cell_type": "code",
   "execution_count": null,
   "metadata": {},
   "outputs": [],
   "source": []
  },
  {
   "cell_type": "code",
   "execution_count": 153,
   "metadata": {},
   "outputs": [
    {
     "data": {
      "image/png": "[encoded data removed]",
      "text/plain": [
       "<Figure size 720x504 with 1 Axes>"
      ]
     },
     "metadata": {
      "needs_background": "light"
     },
     "output_type": "display_data"
    }
   ],
   "source": [
    "plt.figure(figsize = (10, 7))\n",
    "sns.lineplot(data = win_pct_data)\n",
    "plt.ylim(0, 1)\n",
    "plt.grid()"
   ]
  },
  {
   "cell_type": "code",
   "execution_count": null,
   "metadata": {},
   "outputs": [],
   "source": []
  }
 ],
 "metadata": {
  "kernelspec": {
   "display_name": "Python 3",
   "language": "python",
   "name": "python3"
  },
  "language_info": {
   "codemirror_mode": {
    "name": "ipython",
    "version": 3
   },
   "file_extension": ".py",
   "mimetype": "text/x-python",
   "name": "python",
   "nbconvert_exporter": "python",
   "pygments_lexer": "ipython3",
   "version": "3.8.5"
  }
 },
 "nbformat": 4,
 "nbformat_minor": 4
}
